{
 "cells": [
  {
   "cell_type": "markdown",
   "metadata": {
    "id": "Tce3stUlHN0L"
   },
   "source": [
    "##### Copyright 2020 The TensorFlow Authors."
   ]
  },
  {
   "cell_type": "code",
   "execution_count": 1,
   "metadata": {
    "cellView": "form",
    "execution": {
     "iopub.execute_input": "2020-09-12T11:10:16.420697Z",
     "iopub.status.busy": "2020-09-12T11:10:16.420051Z",
     "iopub.status.idle": "2020-09-12T11:10:16.422659Z",
     "shell.execute_reply": "2020-09-12T11:10:16.422153Z"
    },
    "id": "tuOe1ymfHZPu"
   },
   "outputs": [],
   "source": [
    "#@title Licensed under the Apache License, Version 2.0 (the \"License\");\n",
    "# you may not use this file except in compliance with the License.\n",
    "# You may obtain a copy of the License at\n",
    "#\n",
    "# https://www.apache.org/licenses/LICENSE-2.0\n",
    "#\n",
    "# Unless required by applicable law or agreed to in writing, software\n",
    "# distributed under the License is distributed on an \"AS IS\" BASIS,\n",
    "# WITHOUT WARRANTIES OR CONDITIONS OF ANY KIND, either express or implied.\n",
    "# See the License for the specific language governing permissions and\n",
    "# limitations under the License."
   ]
  },
  {
   "cell_type": "markdown",
   "metadata": {
    "id": "qFdPvlXBOdUN"
   },
   "source": [
    "# Pruning in Keras example"
   ]
  },
  {
   "cell_type": "markdown",
   "metadata": {
    "id": "MfBg1C5NB3X0"
   },
   "source": [
    "<table class=\"tfo-notebook-buttons\" align=\"left\">\n",
    "  <td>\n",
    "    <a target=\"_blank\" href=\"https://www.tensorflow.org/model_optimization/guide/pruning/pruning_with_keras\"><img src=\"https://www.tensorflow.org/images/tf_logo_32px.png\" />View on TensorFlow.org</a>\n",
    "  </td>\n",
    "  <td>\n",
    "    <a target=\"_blank\" href=\"https://colab.research.google.com/github/tensorflow/model-optimization/blob/master/tensorflow_model_optimization/g3doc/guide/pruning/pruning_with_keras.ipynb\"><img src=\"https://www.tensorflow.org/images/colab_logo_32px.png\" />Run in Google Colab</a>\n",
    "  </td>\n",
    "  <td>\n",
    "    <a target=\"_blank\" href=\"https://github.com/tensorflow/model-optimization/blob/master/tensorflow_model_optimization/g3doc/guide/pruning/pruning_with_keras.ipynb\"><img src=\"https://www.tensorflow.org/images/GitHub-Mark-32px.png\" />View source on GitHub</a>\n",
    "  </td>\n",
    "  <td>\n",
    "    <a href=\"https://storage.googleapis.com/tensorflow_docs/model-optimization/tensorflow_model_optimization/g3doc/guide/pruning/pruning_with_keras.ipynb\"><img src=\"https://www.tensorflow.org/images/download_logo_32px.png\" />Download notebook</a>\n",
    "  </td>\n",
    "</table>"
   ]
  },
  {
   "cell_type": "markdown",
   "metadata": {
    "id": "Bjmi3qZeu_xk"
   },
   "source": [
    "## Overview\n",
    "\n",
    "Welcome to an end-to-end example for magnitude-based *weight pruning*.\n",
    "\n",
    "### Other pages\n",
    "For an introduction to what pruning is and to determine if you should use it (including what's supported), see the [overview page](https://www.tensorflow.org/model_optimization/guide/pruning).\n",
    "\n",
    "To quickly find the APIs you need for your use case (beyond fully pruning a model with 80% sparsity), see the\n",
    "[comprehensive guide](https://www.tensorflow.org/model_optimization/guide/pruning/comprehensive_guide.md).\n",
    "\n",
    "### Summary\n",
    "\n",
    "In this tutorial, you will:\n",
    "\n",
    "1.   Train a `tf.keras` model for MNIST from scratch.\n",
    "2.   Fine tune the model by applying the pruning API and see the accuracy.\n",
    "3.   Create 3x smaller TF and TFLite models from pruning.\n",
    "4.   Create a 10x smaller TFLite model from combining pruning and post-training quantization.\n",
    "5.   See the persistence of accuracy from TF to TFLite."
   ]
  },
  {
   "cell_type": "markdown",
   "metadata": {
    "id": "yEAZYXvZU_XG"
   },
   "source": [
    "## Setup"
   ]
  },
  {
   "cell_type": "code",
   "execution_count": 84,
   "metadata": {
    "execution": {
     "iopub.execute_input": "2020-09-12T11:10:16.427102Z",
     "iopub.status.busy": "2020-09-12T11:10:16.426452Z",
     "iopub.status.idle": "2020-09-12T11:10:18.123381Z",
     "shell.execute_reply": "2020-09-12T11:10:18.122867Z"
    },
    "id": "zN4yVFK5-0Bf"
   },
   "outputs": [
    {
     "name": "stdout",
     "output_type": "stream",
     "text": [
      "Enabling notebook extension jupyter-js-widgets/extension...\r\n",
      "      - Validating: \u001b[32mOK\u001b[0m\r\n"
     ]
    }
   ],
   "source": [
    "! jupyter nbextension enable --py widgetsnbextension"
   ]
  },
  {
   "cell_type": "code",
   "execution_count": 17,
   "metadata": {
    "execution": {
     "iopub.execute_input": "2020-09-12T11:10:18.128610Z",
     "iopub.status.busy": "2020-09-12T11:10:18.127979Z",
     "iopub.status.idle": "2020-09-12T11:10:23.562222Z",
     "shell.execute_reply": "2020-09-12T11:10:23.561617Z"
    },
    "id": "yJwIonXEVJo6"
   },
   "outputs": [
    {
     "name": "stdout",
     "output_type": "stream",
     "text": [
      "The tensorboard extension is already loaded. To reload it, use:\n",
      "  %reload_ext tensorboard\n"
     ]
    }
   ],
   "source": [
    "import tempfile\n",
    "import os\n",
    "from datetime import datetime\n",
    "\n",
    "import tensorflow as tf\n",
    "import numpy as np\n",
    "\n",
    "import tensorflow.keras as keras\n",
    "import tensorflow_datasets as tfds\n",
    "import tensorflow_model_optimization as tfmot\n",
    "\n",
    "\n",
    "%load_ext tensorboard"
   ]
  },
  {
   "cell_type": "markdown",
   "metadata": {
    "id": "psViY5PRDurp"
   },
   "source": [
    "## Train a model for MNIST without pruning"
   ]
  },
  {
   "cell_type": "code",
   "execution_count": 21,
   "metadata": {
    "execution": {
     "iopub.execute_input": "2020-09-12T11:10:23.569087Z",
     "iopub.status.busy": "2020-09-12T11:10:23.568458Z",
     "iopub.status.idle": "2020-09-12T11:10:53.895893Z",
     "shell.execute_reply": "2020-09-12T11:10:53.896313Z"
    },
    "id": "pbY-KGMPvbW9"
   },
   "outputs": [
    {
     "name": "stdout",
     "output_type": "stream",
     "text": [
      "Epoch 1/8\n",
      "   2/1688 [..............................] - ETA: 3:48 - loss: 2.2913 - accuracy: 0.1250  WARNING:tensorflow:Callbacks method `on_train_batch_end` is slow compared to the batch time (batch time: 0.0267s vs `on_train_batch_end` time: 0.2439s). Check your callbacks.\n",
      "1688/1688 [==============================] - 54s 32ms/step - loss: 1.6548 - accuracy: 0.8109 - val_loss: 1.6146 - val_accuracy: 0.8462\n",
      "Epoch 2/8\n",
      "1688/1688 [==============================] - 56s 33ms/step - loss: 1.5914 - accuracy: 0.8710 - val_loss: 1.5924 - val_accuracy: 0.8690\n",
      "Epoch 3/8\n",
      "1688/1688 [==============================] - 56s 33ms/step - loss: 1.5777 - accuracy: 0.8840 - val_loss: 1.5778 - val_accuracy: 0.8845\n",
      "Epoch 4/8\n",
      "1688/1688 [==============================] - 49s 29ms/step - loss: 1.5698 - accuracy: 0.8922 - val_loss: 1.5723 - val_accuracy: 0.8887\n",
      "Epoch 5/8\n",
      "1688/1688 [==============================] - 55s 33ms/step - loss: 1.5646 - accuracy: 0.8967 - val_loss: 1.5776 - val_accuracy: 0.8835\n",
      "Epoch 6/8\n",
      "1688/1688 [==============================] - 55s 32ms/step - loss: 1.5583 - accuracy: 0.9027 - val_loss: 1.5780 - val_accuracy: 0.8825\n",
      "Epoch 7/8\n",
      "1688/1688 [==============================] - 50s 29ms/step - loss: 1.5530 - accuracy: 0.9085 - val_loss: 1.5705 - val_accuracy: 0.8915\n",
      "Epoch 8/8\n",
      "1688/1688 [==============================] - 56s 33ms/step - loss: 1.5510 - accuracy: 0.9105 - val_loss: 1.5602 - val_accuracy: 0.9017\n"
     ]
    },
    {
     "data": {
      "text/plain": [
       "<tensorflow.python.keras.callbacks.History at 0x7f4445437f10>"
      ]
     },
     "execution_count": 21,
     "metadata": {},
     "output_type": "execute_result"
    }
   ],
   "source": [
    "# Load MNIST dataset\n",
    "mnist = tf.keras.datasets.fashion_mnist\n",
    "(train_images, train_labels), (test_images, test_labels) = mnist.load_data()\n",
    "\n",
    "# Normalize the input image so that each pixel value is between 0 to 1.\n",
    "train_images = train_images / 255.0\n",
    "test_images = test_images / 255.0\n",
    "\n",
    "# Define the model architecture.\n",
    "if 0:\n",
    "    model = keras.Sequential([\n",
    "      keras.layers.InputLayer(input_shape=(28, 28)),\n",
    "      keras.layers.Reshape(target_shape=(28, 28, 1)),\n",
    "      keras.layers.Conv2D(filters=12, kernel_size=(3, 3), activation='relu'),\n",
    "      keras.layers.MaxPooling2D(pool_size=(2, 2)),\n",
    "      keras.layers.Flatten(),\n",
    "      keras.layers.Dense(100),\n",
    "      keras.layers.Dense(10)\n",
    "    ])\n",
    "    \n",
    "model = keras.Sequential([\n",
    "  keras.layers.InputLayer(input_shape=(28, 28)),\n",
    "    keras.layers.Reshape(target_shape=(28, 28, 1)),\n",
    "    keras.layers.Conv2D(filters=12, kernel_size=(5,5), activation='relu', name=\"c0\"),\n",
    "    keras.layers.MaxPooling2D(pool_size=(2, 2)),\n",
    "    keras.layers.Flatten(),\n",
    "   keras.layers.Dense(400, activation=\"relu\",name=\"l1\"),\n",
    "  keras.layers.Dense(10,activation='softmax',name=\"l0\")\n",
    "])\n",
    "\n",
    "logdir=\"logs/fit/\" + datetime.now().strftime(\"%Y%m%d-%H%M%S\")\n",
    "tensorboard_callback = keras.callbacks.TensorBoard(log_dir=logdir)\n",
    "\n",
    "# Train the digit classification model\n",
    "model.compile(optimizer='adam',\n",
    "              loss=tf.keras.losses.SparseCategoricalCrossentropy(from_logits=True),\n",
    "              metrics=['accuracy'])\n",
    "\n",
    "model.fit(\n",
    "  train_images,\n",
    "  train_labels,\n",
    "  epochs=8,\n",
    "  validation_split=0.1,\n",
    "             callbacks=[tensorboard_callback]\n",
    ")"
   ]
  },
  {
   "cell_type": "code",
   "execution_count": null,
   "metadata": {},
   "outputs": [],
   "source": [
    "model.summary()"
   ]
  },
  {
   "cell_type": "markdown",
   "metadata": {
    "id": "G1qKfXNqo9hk"
   },
   "source": [
    "Evaluate baseline test accuracy and save the model for later usage."
   ]
  },
  {
   "cell_type": "code",
   "execution_count": 24,
   "metadata": {
    "execution": {
     "iopub.execute_input": "2020-09-12T11:10:53.902136Z",
     "iopub.status.busy": "2020-09-12T11:10:53.901450Z",
     "iopub.status.idle": "2020-09-12T11:10:54.441622Z",
     "shell.execute_reply": "2020-09-12T11:10:54.442079Z"
    },
    "id": "RyIKnbVZafIH"
   },
   "outputs": [
    {
     "name": "stdout",
     "output_type": "stream",
     "text": [
      "Baseline test accuracy: 0.8973000049591064\n",
      "Saved baseline model to: /tmp/tmp6iaoir4f.h5\n"
     ]
    }
   ],
   "source": [
    "_, baseline_model_accuracy = model.evaluate(\n",
    "    test_images, test_labels, verbose=0)\n",
    "\n",
    "print('Baseline test accuracy:', baseline_model_accuracy)\n",
    "\n",
    "_, keras_file = tempfile.mkstemp('.h5')\n",
    "tf.keras.models.save_model(model, keras_file, include_optimizer=False)\n",
    "print('Saved baseline model to:', keras_file)"
   ]
  },
  {
   "cell_type": "markdown",
   "metadata": {
    "id": "K8747K9OE72P"
   },
   "source": [
    "## Fine-tune pre-trained model with pruning\n"
   ]
  },
  {
   "cell_type": "markdown",
   "metadata": {
    "id": "F19k7ExXF_h2"
   },
   "source": [
    "### Define the model"
   ]
  },
  {
   "cell_type": "markdown",
   "metadata": {
    "id": "JsZROpNYMWQ0"
   },
   "source": [
    "You will apply pruning to the whole model and see this in the model summary.\n",
    "\n",
    "In this example, you start the model with 50% sparsity (50% zeros in weights)\n",
    "and end with 80% sparsity.\n",
    "\n",
    "In the [comprehensive guide](https://www.tensorflow.org/model_optimization/guide/pruning/comprehensive_guide.md), you can see how to prune some layers for model accuracy improvements."
   ]
  },
  {
   "cell_type": "code",
   "execution_count": 25,
   "metadata": {
    "execution": {
     "iopub.execute_input": "2020-09-12T11:10:54.448904Z",
     "iopub.status.busy": "2020-09-12T11:10:54.448247Z",
     "iopub.status.idle": "2020-09-12T11:10:55.317874Z",
     "shell.execute_reply": "2020-09-12T11:10:55.317373Z"
    },
    "id": "oq6blGjgFDCW"
   },
   "outputs": [
    {
     "name": "stdout",
     "output_type": "stream",
     "text": [
      "Model: \"sequential_5\"\n",
      "_________________________________________________________________\n",
      "Layer (type)                 Output Shape              Param #   \n",
      "=================================================================\n",
      "reshape_5 (Reshape)          (None, 28, 28, 1)         0         \n",
      "_________________________________________________________________\n",
      "prune_low_magnitude_c0 (Prun (None, 24, 24, 12)        614       \n",
      "_________________________________________________________________\n",
      "max_pooling2d_5 (MaxPooling2 (None, 12, 12, 12)        0         \n",
      "_________________________________________________________________\n",
      "flatten_5 (Flatten)          (None, 1728)              0         \n",
      "_________________________________________________________________\n",
      "prune_low_magnitude_l1 (Prun (None, 400)               1382802   \n",
      "_________________________________________________________________\n",
      "prune_low_magnitude_l0 (Prun (None, 10)                8012      \n",
      "=================================================================\n",
      "Total params: 1,391,428\n",
      "Trainable params: 695,922\n",
      "Non-trainable params: 695,506\n",
      "_________________________________________________________________\n"
     ]
    }
   ],
   "source": [
    "import tensorflow_model_optimization as tfmot\n",
    "\n",
    "prune_low_magnitude = tfmot.sparsity.keras.prune_low_magnitude\n",
    "\n",
    "# Compute end step to finish pruning after 2 epochs.\n",
    "batch_size = 128\n",
    "epochs = 4\n",
    "validation_split = 0.1 # 10% of training set will be used for validation set. \n",
    "\n",
    "num_images = train_images.shape[0] * (1 - validation_split)\n",
    "end_step = np.ceil(num_images / batch_size).astype(np.int32) * epochs\n",
    "\n",
    "# Define model for pruning.\n",
    "pruning_params_c0 = {\n",
    "      'pruning_schedule': tfmot.sparsity.keras.PolynomialDecay(initial_sparsity=0.50,\n",
    "                                                               final_sparsity=0.9,\n",
    "                                                               begin_step=0,\n",
    "                                                               end_step=end_step)\n",
    "}\n",
    "pruning_params_l2 = {\n",
    "      'pruning_schedule': tfmot.sparsity.keras.PolynomialDecay(initial_sparsity=0.50,\n",
    "                                                               final_sparsity=0.999,\n",
    "                                                               begin_step=0,\n",
    "                                                               end_step=end_step)\n",
    "}\n",
    "pruning_params_l1 = {\n",
    "      'pruning_schedule': tfmot.sparsity.keras.PolynomialDecay(initial_sparsity=0.50,\n",
    "                                                               final_sparsity=0.999,\n",
    "                                                               begin_step=0,\n",
    "                                                               end_step=end_step)\n",
    "}\n",
    "pruning_params_l0 = {\n",
    "      'pruning_schedule': tfmot.sparsity.keras.PolynomialDecay(initial_sparsity=0.50,\n",
    "                                                               final_sparsity=0.99,\n",
    "                                                               begin_step=0,\n",
    "                                                               end_step=end_step)\n",
    "}\n",
    "\n",
    "def apply_pruning_to_selected(layer):\n",
    "    if layer.name==\"c0\":\n",
    "        return tfmot.sparsity.keras.prune_low_magnitude(layer, **pruning_params_c0)\n",
    "    if layer.name==\"l1\":\n",
    "        return tfmot.sparsity.keras.prune_low_magnitude(layer, **pruning_params_l1)\n",
    "    if layer.name==\"l2\":\n",
    "        return tfmot.sparsity.keras.prune_low_magnitude(layer, **pruning_params_l2)\n",
    "    if layer.name==\"l0\":\n",
    "        return tfmot.sparsity.keras.prune_low_magnitude(layer, **pruning_params_l0)\n",
    "    return layer\n",
    "\n",
    "model_for_pruning = tf.keras.models.clone_model(\n",
    "    model,\n",
    "    clone_function=apply_pruning_to_selected,\n",
    ")\n",
    "\n",
    "#model_for_pruning = prune_low_magnitude(model, **pruning_params)\n",
    "\n",
    "# `prune_low_magnitude` requires a recompile.\n",
    "model_for_pruning.compile(optimizer='adam',\n",
    "              loss=tf.keras.losses.SparseCategoricalCrossentropy(from_logits=True),\n",
    "              metrics=['accuracy'])\n",
    "\n",
    "model_for_pruning.summary()"
   ]
  },
  {
   "cell_type": "markdown",
   "metadata": {
    "id": "uDr2ijwpGCI-"
   },
   "source": [
    "### Train and evaluate the model against baseline"
   ]
  },
  {
   "cell_type": "markdown",
   "metadata": {
    "id": "XUBEn94hXYB1"
   },
   "source": [
    "Fine tune with pruning for two epochs.\n",
    "\n",
    "`tfmot.sparsity.keras.UpdatePruningStep` is required during training, and `tfmot.sparsity.keras.PruningSummaries` provides logs for tracking progress and debugging."
   ]
  },
  {
   "cell_type": "code",
   "execution_count": 26,
   "metadata": {
    "execution": {
     "iopub.execute_input": "2020-09-12T11:10:55.343253Z",
     "iopub.status.busy": "2020-09-12T11:10:55.342580Z",
     "iopub.status.idle": "2020-09-12T11:11:02.286488Z",
     "shell.execute_reply": "2020-09-12T11:11:02.285979Z"
    },
    "id": "_PHDGJryE31X"
   },
   "outputs": [
    {
     "name": "stdout",
     "output_type": "stream",
     "text": [
      "Epoch 1/4\n",
      "  2/422 [..............................] - ETA: 45s - loss: 1.5697 - accuracy: 0.8867WARNING:tensorflow:Callbacks method `on_train_batch_end` is slow compared to the batch time (batch time: 0.0686s vs `on_train_batch_end` time: 0.1457s). Check your callbacks.\n"
     ]
    },
    {
     "name": "stderr",
     "output_type": "stream",
     "text": [
      "WARNING:tensorflow:Callbacks method `on_train_batch_end` is slow compared to the batch time (batch time: 0.0686s vs `on_train_batch_end` time: 0.1457s). Check your callbacks.\n"
     ]
    },
    {
     "name": "stdout",
     "output_type": "stream",
     "text": [
      "422/422 [==============================] - 31s 73ms/step - loss: 1.5477 - accuracy: 0.9159 - val_loss: 1.5742 - val_accuracy: 0.8922\n",
      "Epoch 2/4\n",
      "422/422 [==============================] - 33s 78ms/step - loss: 1.5769 - accuracy: 0.8946 - val_loss: 1.5974 - val_accuracy: 0.8757\n",
      "Epoch 3/4\n",
      "422/422 [==============================] - 33s 78ms/step - loss: 1.6490 - accuracy: 0.8381 - val_loss: 1.6768 - val_accuracy: 0.8217\n",
      "Epoch 4/4\n",
      "422/422 [==============================] - 38s 91ms/step - loss: 1.7166 - accuracy: 0.7839 - val_loss: 1.6981 - val_accuracy: 0.8010\n"
     ]
    },
    {
     "data": {
      "text/plain": [
       "<tensorflow.python.keras.callbacks.History at 0x7f43fc467450>"
      ]
     },
     "execution_count": 26,
     "metadata": {},
     "output_type": "execute_result"
    }
   ],
   "source": [
    "logdir = tempfile.mkdtemp()\n",
    "\n",
    "callbacks = [\n",
    "  tfmot.sparsity.keras.UpdatePruningStep(),\n",
    "  tfmot.sparsity.keras.PruningSummaries(log_dir=logdir),\n",
    "]\n",
    "  \n",
    "model_for_pruning.fit(train_images, train_labels,\n",
    "                  batch_size=batch_size, epochs=epochs, validation_split=validation_split,\n",
    "                  callbacks=callbacks)"
   ]
  },
  {
   "cell_type": "markdown",
   "metadata": {
    "id": "-byC2lYlMkfN"
   },
   "source": [
    "For this example, there is minimal loss in test accuracy after pruning, compared to the baseline."
   ]
  },
  {
   "cell_type": "code",
   "execution_count": 27,
   "metadata": {
    "execution": {
     "iopub.execute_input": "2020-09-12T11:11:02.291389Z",
     "iopub.status.busy": "2020-09-12T11:11:02.290696Z",
     "iopub.status.idle": "2020-09-12T11:11:02.838871Z",
     "shell.execute_reply": "2020-09-12T11:11:02.838415Z"
    },
    "id": "6bMFTKSSHyyZ"
   },
   "outputs": [
    {
     "name": "stdout",
     "output_type": "stream",
     "text": [
      "Baseline test accuracy: 0.8973000049591064\n",
      "Pruned test accuracy: 0.7922000288963318\n"
     ]
    }
   ],
   "source": [
    "_, model_for_pruning_accuracy = model_for_pruning.evaluate(\n",
    "   test_images, test_labels, verbose=0)\n",
    "\n",
    "print('Baseline test accuracy:', baseline_model_accuracy) \n",
    "print('Pruned test accuracy:', model_for_pruning_accuracy)"
   ]
  },
  {
   "cell_type": "markdown",
   "metadata": {
    "id": "zQFiZsqqc0vS"
   },
   "source": [
    "The logs show the progression of sparsity on a per-layer basis."
   ]
  },
  {
   "cell_type": "code",
   "execution_count": 20,
   "metadata": {
    "execution": {
     "iopub.execute_input": "2020-09-12T11:11:02.843701Z",
     "iopub.status.busy": "2020-09-12T11:11:02.843120Z",
     "iopub.status.idle": "2020-09-12T11:11:05.887394Z",
     "shell.execute_reply": "2020-09-12T11:11:05.887777Z"
    },
    "id": "LdLm4hVYc1wx"
   },
   "outputs": [
    {
     "data": {
      "text/html": [
       "\n",
       "      <iframe id=\"tensorboard-frame-f3db60f894dcc740\" width=\"100%\" height=\"800\" frameborder=\"0\">\n",
       "      </iframe>\n",
       "      <script>\n",
       "        (function() {\n",
       "          const frame = document.getElementById(\"tensorboard-frame-f3db60f894dcc740\");\n",
       "          const url = new URL(\"/\", window.location);\n",
       "          const port = 6008;\n",
       "          if (port) {\n",
       "            url.port = port;\n",
       "          }\n",
       "          frame.src = url;\n",
       "        })();\n",
       "      </script>\n",
       "    "
      ],
      "text/plain": [
       "<IPython.core.display.HTML object>"
      ]
     },
     "metadata": {},
     "output_type": "display_data"
    }
   ],
   "source": [
    "#docs_infra: no_execute\n",
    "%tensorboard --logdir={logdir}"
   ]
  },
  {
   "cell_type": "markdown",
   "metadata": {
    "id": "d1UFCxxSIIf5"
   },
   "source": [
    "For non-Colab users, you can see [the results of a previous run](https://tensorboard.dev/experiment/sRQnrycaTMWQOaswXzClYA/#scalars&_smoothingWeight=0) of this code block on [TensorBoard.dev](https://tensorboard.dev/)."
   ]
  },
  {
   "cell_type": "markdown",
   "metadata": {
    "id": "2IepmUPSITn6"
   },
   "source": [
    "## Create 3x smaller models from pruning"
   ]
  },
  {
   "cell_type": "markdown",
   "metadata": {
    "id": "1FgNP4rbOLH8"
   },
   "source": [
    "Both `tfmot.sparsity.keras.strip_pruning` and applying a standard compression algorithm (e.g. via gzip) are necessary to see the compression\n",
    "benefits of pruning.\n",
    "\n",
    "*   `strip_pruning` is necessary since it removes every tf.Variable that pruning only needs during training, which would otherwise add to model size during inference\n",
    "*   Applying a standard compression algorithm is necessary since the serialized weight matrices are the same size as they were before pruning. However, pruning makes most of the weights zeros, which is\n",
    "added redundancy that algorithms can utilize to further compress the model.\n",
    "\n",
    "First, create a compressible model for TensorFlow."
   ]
  },
  {
   "cell_type": "code",
   "execution_count": 28,
   "metadata": {
    "execution": {
     "iopub.execute_input": "2020-09-12T11:11:05.897951Z",
     "iopub.status.busy": "2020-09-12T11:11:05.897319Z",
     "iopub.status.idle": "2020-09-12T11:11:05.921489Z",
     "shell.execute_reply": "2020-09-12T11:11:05.921924Z"
    },
    "id": "w7fztWsAOHTz"
   },
   "outputs": [
    {
     "name": "stdout",
     "output_type": "stream",
     "text": [
      "Saved pruned Keras model to: /tmp/tmp37coapz1.h5\n"
     ]
    }
   ],
   "source": [
    "model_for_export = tfmot.sparsity.keras.strip_pruning(model_for_pruning)\n",
    "\n",
    "_, pruned_keras_file = tempfile.mkstemp('.h5')\n",
    "tf.keras.models.save_model(model_for_export, pruned_keras_file, include_optimizer=False)\n",
    "print('Saved pruned Keras model to:', pruned_keras_file)"
   ]
  },
  {
   "cell_type": "markdown",
   "metadata": {
    "id": "X4_bixlrtTbF"
   },
   "source": [
    "Then, create a compressible model for TFLite."
   ]
  },
  {
   "cell_type": "code",
   "execution_count": 29,
   "metadata": {
    "execution": {
     "iopub.execute_input": "2020-09-12T11:11:05.928624Z",
     "iopub.status.busy": "2020-09-12T11:11:05.927809Z",
     "iopub.status.idle": "2020-09-12T11:11:06.487345Z",
     "shell.execute_reply": "2020-09-12T11:11:06.486813Z"
    },
    "id": "uIKxSSHmrJSa"
   },
   "outputs": [
    {
     "name": "stdout",
     "output_type": "stream",
     "text": [
      "INFO:tensorflow:Assets written to: /tmp/tmpxkkzn64s/assets\n"
     ]
    },
    {
     "name": "stderr",
     "output_type": "stream",
     "text": [
      "INFO:tensorflow:Assets written to: /tmp/tmpxkkzn64s/assets\n"
     ]
    },
    {
     "name": "stdout",
     "output_type": "stream",
     "text": [
      "Saved pruned TFLite model to: /tmp/tmpr0eu53yw.tflite\n"
     ]
    }
   ],
   "source": [
    "converter = tf.lite.TFLiteConverter.from_keras_model(model_for_export)\n",
    "pruned_tflite_model = converter.convert()\n",
    "\n",
    "_, pruned_tflite_file = tempfile.mkstemp('.tflite')\n",
    "\n",
    "with open(pruned_tflite_file, 'wb') as f:\n",
    "  f.write(pruned_tflite_model)\n",
    "\n",
    "print('Saved pruned TFLite model to:', pruned_tflite_file)"
   ]
  },
  {
   "cell_type": "markdown",
   "metadata": {
    "id": "c4lv-lRKuMY4"
   },
   "source": [
    "Define a helper function to actually compress the models via gzip and measure the zipped size."
   ]
  },
  {
   "cell_type": "code",
   "execution_count": 30,
   "metadata": {
    "execution": {
     "iopub.execute_input": "2020-09-12T11:11:06.492644Z",
     "iopub.status.busy": "2020-09-12T11:11:06.492001Z",
     "iopub.status.idle": "2020-09-12T11:11:06.494259Z",
     "shell.execute_reply": "2020-09-12T11:11:06.493683Z"
    },
    "id": "-E7DXEgUrCDZ"
   },
   "outputs": [],
   "source": [
    "def get_gzipped_model_size(file):\n",
    "  # Returns size of gzipped model, in bytes.\n",
    "  import os\n",
    "  import zipfile\n",
    "\n",
    "  _, zipped_file = tempfile.mkstemp('.zip')\n",
    "  with zipfile.ZipFile(zipped_file, 'w', compression=zipfile.ZIP_DEFLATED) as f:\n",
    "    f.write(file)\n",
    "\n",
    "  return os.path.getsize(zipped_file)"
   ]
  },
  {
   "cell_type": "markdown",
   "metadata": {
    "id": "caxUoJ_BunqU"
   },
   "source": [
    "Compare and see that the models are 3x smaller from pruning."
   ]
  },
  {
   "cell_type": "code",
   "execution_count": 31,
   "metadata": {
    "execution": {
     "iopub.execute_input": "2020-09-12T11:11:06.498428Z",
     "iopub.status.busy": "2020-09-12T11:11:06.497794Z",
     "iopub.status.idle": "2020-09-12T11:11:06.540755Z",
     "shell.execute_reply": "2020-09-12T11:11:06.540253Z"
    },
    "id": "HzSXC_nxuqJX"
   },
   "outputs": [
    {
     "name": "stdout",
     "output_type": "stream",
     "text": [
      "Size of gzipped baseline Keras model: 2595654.00 bytes\n",
      "Size of gzipped pruned Keras model: 195067.00 bytes\n",
      "Size of gzipped pruned TFlite model: 165927.00 bytes\n"
     ]
    }
   ],
   "source": [
    "print(\"Size of gzipped baseline Keras model: %.2f bytes\" % (get_gzipped_model_size(keras_file)))\n",
    "print(\"Size of gzipped pruned Keras model: %.2f bytes\" % (get_gzipped_model_size(pruned_keras_file)))\n",
    "print(\"Size of gzipped pruned TFlite model: %.2f bytes\" % (get_gzipped_model_size(pruned_tflite_file)))"
   ]
  },
  {
   "cell_type": "markdown",
   "metadata": {
    "id": "z8D7WnFF5DZR"
   },
   "source": [
    "## Create a 10x smaller model from combining pruning and quantization"
   ]
  },
  {
   "cell_type": "markdown",
   "metadata": {
    "id": "I1c2IecBRCdQ"
   },
   "source": [
    "You can apply post-training quantization to the pruned model for additional benefits."
   ]
  },
  {
   "cell_type": "code",
   "execution_count": 32,
   "metadata": {
    "execution": {
     "iopub.execute_input": "2020-09-12T11:11:06.546684Z",
     "iopub.status.busy": "2020-09-12T11:11:06.545984Z",
     "iopub.status.idle": "2020-09-12T11:11:06.964348Z",
     "shell.execute_reply": "2020-09-12T11:11:06.963823Z"
    },
    "id": "jy_Lgfh8VkyX"
   },
   "outputs": [
    {
     "name": "stdout",
     "output_type": "stream",
     "text": [
      "INFO:tensorflow:Assets written to: /tmp/tmpmzjqdgmi/assets\n"
     ]
    },
    {
     "name": "stderr",
     "output_type": "stream",
     "text": [
      "INFO:tensorflow:Assets written to: /tmp/tmpmzjqdgmi/assets\n"
     ]
    },
    {
     "name": "stdout",
     "output_type": "stream",
     "text": [
      "Saved quantized and pruned TFLite model to: /tmp/tmpxxoe398n.tflite\n",
      "Size of gzipped baseline Keras model: 2595654.00 bytes\n",
      "Size of gzipped pruned and quantized TFlite model: 7592.00 bytes\n"
     ]
    }
   ],
   "source": [
    "converter = tf.lite.TFLiteConverter.from_keras_model(model_for_export)\n",
    "converter.optimizations = [tf.lite.Optimize.DEFAULT]\n",
    "quantized_and_pruned_tflite_model = converter.convert()\n",
    "\n",
    "_, quantized_and_pruned_tflite_file = tempfile.mkstemp('.tflite')\n",
    "\n",
    "with open(quantized_and_pruned_tflite_file, 'wb') as f:\n",
    "  f.write(quantized_and_pruned_tflite_model)\n",
    "\n",
    "print('Saved quantized and pruned TFLite model to:', quantized_and_pruned_tflite_file)\n",
    "\n",
    "print(\"Size of gzipped baseline Keras model: %.2f bytes\" % (get_gzipped_model_size(keras_file)))\n",
    "print(\"Size of gzipped pruned and quantized TFlite model: %.2f bytes\" % (get_gzipped_model_size(quantized_and_pruned_tflite_file)))"
   ]
  },
  {
   "cell_type": "markdown",
   "metadata": {
    "id": "BEYsyYVqNgeY"
   },
   "source": [
    "## See persistence of accuracy from TF to TFLite"
   ]
  },
  {
   "cell_type": "markdown",
   "metadata": {
    "id": "saadXD4JQsBK"
   },
   "source": [
    "Define a helper function to evaluate the TF Lite model on the test dataset."
   ]
  },
  {
   "cell_type": "code",
   "execution_count": 33,
   "metadata": {
    "execution": {
     "iopub.execute_input": "2020-09-12T11:11:06.971255Z",
     "iopub.status.busy": "2020-09-12T11:11:06.970560Z",
     "iopub.status.idle": "2020-09-12T11:11:06.972791Z",
     "shell.execute_reply": "2020-09-12T11:11:06.972338Z"
    },
    "id": "b8yBouuGNqls"
   },
   "outputs": [],
   "source": [
    "import numpy as np\n",
    "\n",
    "def evaluate_model(interpreter):\n",
    "  input_index = interpreter.get_input_details()[0][\"index\"]\n",
    "  output_index = interpreter.get_output_details()[0][\"index\"]\n",
    "\n",
    "  # Run predictions on ever y image in the \"test\" dataset.\n",
    "  prediction_digits = []\n",
    "  for i, test_image in enumerate(test_images):\n",
    "    if i % 1000 == 0:\n",
    "      print('Evaluated on {n} results so far.'.format(n=i))\n",
    "    # Pre-processing: add batch dimension and convert to float32 to match with\n",
    "    # the model's input data format.\n",
    "    test_image = np.expand_dims(test_image, axis=0).astype(np.float32)\n",
    "    interpreter.set_tensor(input_index, test_image)\n",
    "\n",
    "    # Run inference.\n",
    "    interpreter.invoke()\n",
    "\n",
    "    # Post-processing: remove batch dimension and find the digit with highest\n",
    "    # probability.\n",
    "    output = interpreter.tensor(output_index)\n",
    "    digit = np.argmax(output()[0])\n",
    "    prediction_digits.append(digit)\n",
    "\n",
    "  print('\\n')\n",
    "  # Compare prediction results with ground truth labels to calculate accuracy.\n",
    "  prediction_digits = np.array(prediction_digits)\n",
    "  accuracy = (prediction_digits == test_labels).mean()\n",
    "  return accuracy"
   ]
  },
  {
   "cell_type": "markdown",
   "metadata": {
    "id": "TuEFS4CIQvUw"
   },
   "source": [
    "You evaluate the pruned and quantized model and see that the accuracy from TensorFlow persists to the TFLite backend."
   ]
  },
  {
   "cell_type": "code",
   "execution_count": 78,
   "metadata": {
    "execution": {
     "iopub.execute_input": "2020-09-12T11:11:06.976931Z",
     "iopub.status.busy": "2020-09-12T11:11:06.976322Z",
     "iopub.status.idle": "2020-09-12T11:11:08.437666Z",
     "shell.execute_reply": "2020-09-12T11:11:08.437165Z"
    },
    "id": "VqQTyqz4NsWd"
   },
   "outputs": [
    {
     "name": "stdout",
     "output_type": "stream",
     "text": [
      "Evaluated on 0 results so far.\n",
      "Evaluated on 1000 results so far.\n",
      "Evaluated on 2000 results so far.\n",
      "Evaluated on 3000 results so far.\n",
      "Evaluated on 4000 results so far.\n",
      "Evaluated on 5000 results so far.\n",
      "Evaluated on 6000 results so far.\n",
      "Evaluated on 7000 results so far.\n",
      "Evaluated on 8000 results so far.\n",
      "Evaluated on 9000 results so far.\n",
      "\n",
      "\n",
      "Pruned and quantized TFLite test_accuracy: 0.847\n",
      "Pruned TF test accuracy: 0.8464000225067139\n"
     ]
    }
   ],
   "source": [
    "interpreter = tf.lite.Interpreter(model_content=quantized_and_pruned_tflite_model)\n",
    "interpreter.allocate_tensors()\n",
    "\n",
    "test_accuracy = evaluate_model(interpreter)\n",
    "\n",
    "print('Pruned and quantized TFLite test_accuracy:', test_accuracy)\n",
    "print('Pruned TF test accuracy:', model_for_pruning_accuracy)"
   ]
  },
  {
   "cell_type": "markdown",
   "metadata": {
    "id": "0O5xuci-SonI"
   },
   "source": [
    "## Conclusion"
   ]
  },
  {
   "cell_type": "code",
   "execution_count": 18,
   "metadata": {},
   "outputs": [
    {
     "data": {
      "text/plain": [
       "[<tensorflow.python.keras.layers.core.Flatten at 0x7f1e60139710>,\n",
       " <tensorflow.python.keras.layers.core.Dense at 0x7f1dffa78e10>,\n",
       " <tensorflow.python.keras.layers.core.Dense at 0x7f1dffa99990>]"
      ]
     },
     "execution_count": 18,
     "metadata": {},
     "output_type": "execute_result"
    }
   ],
   "source": [
    "model.layers"
   ]
  },
  {
   "cell_type": "code",
   "execution_count": 79,
   "metadata": {},
   "outputs": [
    {
     "data": {
      "text/plain": [
       "[<tf.Variable 'l0/kernel:0' shape=(400, 10) dtype=float32, numpy=\n",
       " array([[ 0.       ,  0.7075751, -0.       , ..., -0.       , -0.       ,\n",
       "         -0.       ],\n",
       "        [ 0.       ,  0.       ,  0.       , ...,  0.       , -0.       ,\n",
       "          0.       ],\n",
       "        [-0.       ,  0.       ,  0.       , ..., -0.       ,  0.       ,\n",
       "         -0.       ],\n",
       "        ...,\n",
       "        [ 0.       , -0.       ,  0.       , ...,  0.       ,  0.       ,\n",
       "          0.       ],\n",
       "        [-0.       , -0.       , -0.       , ..., -0.       , -0.       ,\n",
       "         -0.       ],\n",
       "        [ 0.       , -0.       ,  0.       , ..., -0.       ,  0.       ,\n",
       "         -0.       ]], dtype=float32)>,\n",
       " <tf.Variable 'l0/bias:0' shape=(10,) dtype=float32, numpy=\n",
       " array([ 0.34153175, -0.84797037,  0.6178334 , -0.10211604, -4.0805483 ,\n",
       "        -0.3694042 , -0.21163541,  0.8321205 , -0.05734215, -0.21053283],\n",
       "       dtype=float32)>]"
      ]
     },
     "execution_count": 79,
     "metadata": {},
     "output_type": "execute_result"
    }
   ],
   "source": [
    "model.layers[5].weights"
   ]
  },
  {
   "cell_type": "code",
   "execution_count": 97,
   "metadata": {},
   "outputs": [
    {
     "name": "stdout",
     "output_type": "stream",
     "text": [
      "1, in avg=0.5, std=1.118033988749895, max=4, out avg=1.2, std=0.9797958971132713, max=3\n",
      "4, in avg=1.85, std=8.800994262013809, max=68, out avg=0.42824074074074076, std=1.119353590498737, max=10\n",
      "5, in avg=4.0, std=1.2649110640673518, max=6, out avg=0.1, std=0.4743416490252569, max=4\n"
     ]
    }
   ],
   "source": [
    "for i in range(len(model.layers)):\n",
    "    l=model.layers[i]\n",
    "    if len(l.weights) > 0:\n",
    "        w=l.weights[0].numpy()\n",
    "        print(\"{}, in avg={}, std={}, max={}, out avg={}, std={}, max={}\".format(\n",
    "            i,\n",
    "            np.average(sum(w!=0)),\n",
    "            np.std(sum(w!=0)),\n",
    "            np.max(sum(w!=0)),\n",
    "            (np.average(sum(w.transpose()!=0))),\n",
    "            (np.std(sum(w.transpose()!=0))),\n",
    "               (np.max(sum(w.transpose()!=0)))\n",
    "        ))"
   ]
  },
  {
   "cell_type": "code",
   "execution_count": 62,
   "metadata": {},
   "outputs": [
    {
     "data": {
      "text/plain": [
       "array([[ 0., -0., -0., ...,  0., -0.,  0.],\n",
       "       [ 0., -0.,  0., ..., -0., -0.,  0.],\n",
       "       [ 0., -0.,  0., ...,  0., -0., -0.],\n",
       "       ...,\n",
       "       [ 0.,  0.,  0., ...,  0.,  0.,  0.],\n",
       "       [ 0., -0., -0., ..., -0., -0.,  0.],\n",
       "       [-0., -0.,  0., ...,  0., -0.,  0.]], dtype=float32)"
      ]
     },
     "execution_count": 62,
     "metadata": {},
     "output_type": "execute_result"
    }
   ],
   "source": [
    "model.layers[1].weights[0].numpy()"
   ]
  },
  {
   "cell_type": "code",
   "execution_count": 132,
   "metadata": {},
   "outputs": [
    {
     "data": {
      "text/plain": [
       "array([[-0.,  0.,  0., ...,  0., -0.,  0.],\n",
       "       [-0.,  0.,  0., ...,  0.,  0., -0.],\n",
       "       [ 0., -0., -0., ..., -0., -0., -0.],\n",
       "       ...,\n",
       "       [-0., -0.,  0., ..., -0.,  0., -0.],\n",
       "       [-0., -0.,  0., ...,  0.,  0.,  0.],\n",
       "       [ 0., -0.,  0., ...,  0., -0.,  0.]], dtype=float32)"
      ]
     },
     "execution_count": 132,
     "metadata": {},
     "output_type": "execute_result"
    }
   ],
   "source": [
    "w[0].numpy()"
   ]
  },
  {
   "cell_type": "code",
   "execution_count": 36,
   "metadata": {},
   "outputs": [],
   "source": [
    "import matplotlib.pylab as plt\n",
    "import scipy.sparse as sparse"
   ]
  },
  {
   "cell_type": "code",
   "execution_count": 44,
   "metadata": {},
   "outputs": [
    {
     "data": {
      "text/plain": [
       "(1728, 400)"
      ]
     },
     "execution_count": 44,
     "metadata": {},
     "output_type": "execute_result"
    }
   ],
   "source": [
    "model.layers[4].weights[0].numpy().shape"
   ]
  },
  {
   "cell_type": "code",
   "execution_count": 40,
   "metadata": {
    "scrolled": false
   },
   "outputs": [
    {
     "data": {
      "text/plain": [
       "<matplotlib.image.AxesImage at 0x7f43be6e5910>"
      ]
     },
     "execution_count": 40,
     "metadata": {},
     "output_type": "execute_result"
    },
    {
     "data": {
      "image/png": "[encoded data removed]",
      "text/plain": [
       "<Figure size 864x2304 with 1 Axes>"
      ]
     },
     "metadata": {
      "needs_background": "light"
     },
     "output_type": "display_data"
    }
   ],
   "source": [
    "fig=plt.figure(figsize=(12,32))\n",
    "plt.spy(model.layers[5].weights[0].numpy())"
   ]
  },
  {
   "cell_type": "code",
   "execution_count": 35,
   "metadata": {},
   "outputs": [
    {
     "ename": "NameError",
     "evalue": "name 'plt' is not defined",
     "output_type": "error",
     "traceback": [
      "\u001b[0;31m---------------------------------------------------------------------------\u001b[0m",
      "\u001b[0;31mNameError\u001b[0m                                 Traceback (most recent call last)",
      "\u001b[0;32m<ipython-input-35-56111a3f7d2d>\u001b[0m in \u001b[0;36m<module>\u001b[0;34m\u001b[0m\n\u001b[0;32m----> 1\u001b[0;31m \u001b[0mfig\u001b[0m\u001b[0;34m=\u001b[0m\u001b[0mplt\u001b[0m\u001b[0;34m.\u001b[0m\u001b[0mfigure\u001b[0m\u001b[0;34m(\u001b[0m\u001b[0mfigsize\u001b[0m\u001b[0;34m=\u001b[0m\u001b[0;34m(\u001b[0m\u001b[0;36m12\u001b[0m\u001b[0;34m,\u001b[0m\u001b[0;36m32\u001b[0m\u001b[0;34m)\u001b[0m\u001b[0;34m)\u001b[0m\u001b[0;34m\u001b[0m\u001b[0;34m\u001b[0m\u001b[0m\n\u001b[0m\u001b[1;32m      2\u001b[0m \u001b[0mplt\u001b[0m\u001b[0;34m.\u001b[0m\u001b[0mspy\u001b[0m\u001b[0;34m(\u001b[0m\u001b[0mmodel\u001b[0m\u001b[0;34m.\u001b[0m\u001b[0mlayers\u001b[0m\u001b[0;34m[\u001b[0m\u001b[0;36m5\u001b[0m\u001b[0;34m]\u001b[0m\u001b[0;34m.\u001b[0m\u001b[0mweights\u001b[0m\u001b[0;34m[\u001b[0m\u001b[0;36m0\u001b[0m\u001b[0;34m]\u001b[0m\u001b[0;34m.\u001b[0m\u001b[0mnumpy\u001b[0m\u001b[0;34m(\u001b[0m\u001b[0;34m)\u001b[0m\u001b[0;34m)\u001b[0m\u001b[0;34m\u001b[0m\u001b[0;34m\u001b[0m\u001b[0m\n",
      "\u001b[0;31mNameError\u001b[0m: name 'plt' is not defined"
     ]
    }
   ],
   "source": [
    "fig=plt.figure(figsize=(12,32))\n",
    "plt.spy(model.layers[5].weights[0].numpy())"
   ]
  },
  {
   "cell_type": "code",
   "execution_count": 49,
   "metadata": {},
   "outputs": [
    {
     "data": {
      "text/plain": [
       "<tf.Variable 'l0/kernel:0' shape=(400, 10) dtype=float32, numpy=\n",
       "array([[ 0.14873005, -0.05939085,  0.09473985, ..., -0.2242427 ,\n",
       "         0.09320899,  0.06813481],\n",
       "       [ 0.3115249 ,  0.12719092, -0.34525675, ...,  0.03770339,\n",
       "         0.18651219, -0.19702742],\n",
       "       [-0.07720623,  0.33117342,  0.02835927, ..., -0.3686388 ,\n",
       "        -0.1766202 ,  0.32385835],\n",
       "       ...,\n",
       "       [-0.23221527, -0.1479641 , -0.0590368 , ...,  0.08598855,\n",
       "         0.14343278,  0.07206908],\n",
       "       [ 0.21923101, -0.41211462, -0.29207748, ..., -0.1541255 ,\n",
       "        -0.10055155, -0.1178807 ],\n",
       "       [ 0.08779467, -0.12240529,  0.0842476 , ..., -0.14257678,\n",
       "        -0.29477966,  0.25619465]], dtype=float32)>"
      ]
     },
     "execution_count": 49,
     "metadata": {},
     "output_type": "execute_result"
    }
   ],
   "source": [
    "model.layers[5].weights[0]"
   ]
  },
  {
   "cell_type": "code",
   "execution_count": 4,
   "metadata": {},
   "outputs": [
    {
     "ename": "NameError",
     "evalue": "name 'plt' is not defined",
     "output_type": "error",
     "traceback": [
      "\u001b[0;31m---------------------------------------------------------------------------\u001b[0m",
      "\u001b[0;31mNameError\u001b[0m                                 Traceback (most recent call last)",
      "\u001b[0;32m<ipython-input-4-bd1876e93cef>\u001b[0m in \u001b[0;36m<module>\u001b[0;34m\u001b[0m\n\u001b[0;32m----> 1\u001b[0;31m \u001b[0mplt\u001b[0m\u001b[0;34m.\u001b[0m\u001b[0mimshow\u001b[0m\u001b[0;34m(\u001b[0m\u001b[0msum\u001b[0m\u001b[0;34m(\u001b[0m\u001b[0;34m(\u001b[0m\u001b[0mmodel\u001b[0m\u001b[0;34m.\u001b[0m\u001b[0mlayers\u001b[0m\u001b[0;34m[\u001b[0m\u001b[0;36m1\u001b[0m\u001b[0;34m]\u001b[0m\u001b[0;34m.\u001b[0m\u001b[0mweights\u001b[0m\u001b[0;34m[\u001b[0m\u001b[0;36m0\u001b[0m\u001b[0;34m]\u001b[0m\u001b[0;34m.\u001b[0m\u001b[0mnumpy\u001b[0m\u001b[0;34m(\u001b[0m\u001b[0;34m)\u001b[0m\u001b[0;34m.\u001b[0m\u001b[0mtranspose\u001b[0m\u001b[0;34m(\u001b[0m\u001b[0;34m)\u001b[0m\u001b[0;34m!=\u001b[0m\u001b[0;36m0\u001b[0m\u001b[0;34m)\u001b[0m\u001b[0;34m)\u001b[0m\u001b[0;34m.\u001b[0m\u001b[0mreshape\u001b[0m\u001b[0;34m(\u001b[0m\u001b[0;34m(\u001b[0m\u001b[0;36m28\u001b[0m\u001b[0;34m,\u001b[0m\u001b[0;36m28\u001b[0m\u001b[0;34m)\u001b[0m\u001b[0;34m)\u001b[0m\u001b[0;34m)\u001b[0m\u001b[0;34m\u001b[0m\u001b[0;34m\u001b[0m\u001b[0m\n\u001b[0m",
      "\u001b[0;31mNameError\u001b[0m: name 'plt' is not defined"
     ]
    }
   ],
   "source": [
    "plt.imshow(sum((model.layers[1].weights[0].numpy().transpose()!=0)).reshape((28,28)))"
   ]
  },
  {
   "cell_type": "code",
   "execution_count": 37,
   "metadata": {},
   "outputs": [
    {
     "data": {
      "text/plain": [
       "784"
      ]
     },
     "execution_count": 37,
     "metadata": {},
     "output_type": "execute_result"
    }
   ],
   "source": [
    "28*28"
   ]
  },
  {
   "cell_type": "markdown",
   "metadata": {
    "id": "O2I7xmyMW5QY"
   },
   "source": [
    "In this tutorial, you saw how to create sparse models with the TensorFlow Model Optimization Toolkit API for both TensorFlow and TFLite. You \n",
    "then combined pruning with post-training quantization for additional benefits.\n",
    "\n",
    "You created a 10x smaller model for MNIST, with minimal accuracy difference.\n",
    "\n",
    "We encourage you to try this new capability, which can be particularly important for deployment in resource-constrained environments.\n"
   ]
  },
  {
   "cell_type": "code",
   "execution_count": 395,
   "metadata": {},
   "outputs": [
    {
     "data": {
      "text/plain": [
       "<matplotlib.image.AxesImage at 0x7ff39ab57c50>"
      ]
     },
     "execution_count": 395,
     "metadata": {},
     "output_type": "execute_result"
    },
    {
     "data": {
      "image/png": "[encoded data removed]",
      "text/plain": [
       "<Figure size 864x1224 with 1 Axes>"
      ]
     },
     "metadata": {
      "needs_background": "light"
     },
     "output_type": "display_data"
    }
   ],
   "source": [
    "fig=plt.figure(figsize=(12,17))\n",
    "plt.spy(wws[:,:,10])"
   ]
  },
  {
   "cell_type": "code",
   "execution_count": 169,
   "metadata": {},
   "outputs": [
    {
     "name": "stdout",
     "output_type": "stream",
     "text": [
      "(5, 5, 1, 12)\n",
      "[[[0 0 0 ... 0 0 0]\n",
      "  [0 0 0 ... 0 0 0]\n",
      "  [0 0 0 ... 0 0 0]\n",
      "  ...\n",
      "  [0 0 0 ... 0 0 0]\n",
      "  [0 0 0 ... 0 0 0]\n",
      "  [0 0 0 ... 0 0 0]]\n",
      "\n",
      " [[0 0 0 ... 0 0 0]\n",
      "  [('max', None, [('relu', 0.02149312, []), ('relu', 0.02149312, []), ('relu', 0.02149312, []), ('relu', 0.02149312, [])])\n",
      "   ('max', None, [('relu', -0.28124353, []), ('relu', -0.28124353, []), ('relu', -0.28124353, []), ('relu', -0.28124353, [])])\n",
      "   ('max', None, [('relu', -0.13116813, []), ('relu', -0.13116813, []), ('relu', -0.13116813, []), ('relu', -0.13116813, [])])\n",
      "   ...\n",
      "   ('max', None, [('relu', -0.030044356, []), ('relu', -0.030044356, []), ('relu', -0.030044356, []), ('relu', -0.030044356, [])])\n",
      "   ('max', None, [('relu', 0.099940434, [(-1.2536663, 'i_26_22'), (-0.94221073, 'i_26_23'), (0.8438916, 'i_26_24')]), ('relu', 0.099940434, [(-1.2536663, 'i_26_23'), (-0.94221073, 'i_26_24'), (0.8438916, 'i_26_25')]), ('relu', 0.099940434, [(-1.2536663, 'i_27_22'), (-0.94221073, 'i_27_23'), (0.8438916, 'i_27_24')]), ('relu', 0.099940434, [(-1.2536663, 'i_27_23'), (-0.94221073, 'i_27_24'), (0.8438916, 'i_27_25')])])\n",
      "   ('max', None, [('relu', -0.00914865, []), ('relu', -0.00914865, []), ('relu', -0.00914865, []), ('relu', -0.00914865, [])])]\n",
      "  [0 0 0 ... 0 0 0]\n",
      "  ...\n",
      "  [0 0 0 ... 0 0 0]\n",
      "  [0 0 0 ... 0 0 0]\n",
      "  [0 0 0 ... 0 0 0]]\n",
      "\n",
      " [[0 0 0 ... 0 0 0]\n",
      "  [0 0 0 ... 0 0 0]\n",
      "  [0 0 0 ... 0 0 0]\n",
      "  ...\n",
      "  [0 0 0 ... 0 0 0]\n",
      "  [0 0 0 ... 0 0 0]\n",
      "  [0 0 0 ... 0 0 0]]\n",
      "\n",
      " ...\n",
      "\n",
      " [[0 0 0 ... 0 0 0]\n",
      "  [0 0 0 ... 0 0 0]\n",
      "  [0 0 0 ... 0 0 0]\n",
      "  ...\n",
      "  [0 0 0 ... 0 0 0]\n",
      "  [0 0 0 ... 0 0 0]\n",
      "  [0 0 0 ... 0 0 0]]\n",
      "\n",
      " [[0 0 0 ... 0 0 0]\n",
      "  [0 0 0 ... 0 0 0]\n",
      "  [0 0 0 ... 0 0 0]\n",
      "  ...\n",
      "  [0 0 0 ... 0 0 0]\n",
      "  [0 0 0 ... 0 0 0]\n",
      "  [0 0 0 ... 0 0 0]]\n",
      "\n",
      " [[0 0 0 ... 0 0 0]\n",
      "  [0 0 0 ... 0 0 0]\n",
      "  [0 0 0 ... 0 0 0]\n",
      "  ...\n",
      "  [0 0 0 ... 0 0 0]\n",
      "  [0 0 0 ... 0 0 0]\n",
      "  [0 0 0 ... 0 0 0]]]\n"
     ]
    }
   ],
   "source": [
    "def render_as_graph(layers,input_shape):\n",
    "    curr=np.array([\n",
    "        [\n",
    "            f\"i_{x}_{y}\" for x in range(input_shape[1])\n",
    "        ] for y in range(input_shape[0])\n",
    "    ], dtype=object)\n",
    "    for i in range(len(layers)):\n",
    "        l=layers[i]\n",
    "        si=l.input_shape\n",
    "        assert si[0]==None\n",
    "        si=si[1:]\n",
    "        so=l.output_shape\n",
    "        assert so[0] is None\n",
    "        so=so[1:]\n",
    "        if isinstance(l,keras.layers.Reshape):\n",
    "            curr=np.reshape(curr, so)\n",
    "        elif isinstance(l,keras.layers.Conv2D):\n",
    "            assert l.activation==keras.activations.relu, f\"Activation={l.activation}\"\n",
    "            assert l.use_bias==True\n",
    "            assert l.padding==\"valid\"\n",
    "            assert l.data_format==\"channels_last\"\n",
    "            assert l.strides==(1,1)\n",
    "            assert l.dilation_rate==(1,1)\n",
    "            assert l.groups==1\n",
    "            kernel_size=l.kernel_size\n",
    "            filters=l.filters\n",
    "            weights=l.weights[0].numpy()\n",
    "            print(weights.shape)\n",
    "            assert weights.shape==kernel_size+(1,filters), f\"Got={weights.shape}, Exp={kernel_size+(1,filters)}\"\n",
    "            bias=l.weights[1].numpy()\n",
    "            assert bias.shape==(filters,)\n",
    "            assert so==(si[0]-kernel_size[0]+1,si[1]-kernel_size[1]+1,filters)\n",
    "            working=np.zeros(shape=so,dtype=object)\n",
    "            for yo in range(0,so[1]):\n",
    "                for xo in range(0,so[0]):\n",
    "                    for fo in range(0,filters):\n",
    "                        src=[]\n",
    "                        for yi in range(0,kernel_size[1]):\n",
    "                            for xi in range(0,kernel_size[0]):\n",
    "                                w=weights[xi,yi,0,fo]\n",
    "                                if w !=0 :\n",
    "                                    src.append( (w,curr[xo+xi,yo+yi,0]) )\n",
    "                        b=bias[fo]\n",
    "                        working[xo,yo,fo]=('relu',b,src)\n",
    "            curr=working\n",
    "                        \n",
    "        elif isinstance(l,keras.layers.MaxPooling2D):\n",
    "            pool_size=l.pool_size\n",
    "            assert so[0]==si[0] / pool_size[0]\n",
    "            assert so[1]==si[1] / pool_size[1]\n",
    "            assert so[2]==si[2]\n",
    "            assert len(so)==3\n",
    "            assert len(si)==3\n",
    "            working=np.zeros(shape=so,dtype=object)\n",
    "            for yo in range(0,so[1]):\n",
    "                for xo in range(0,so[0]):\n",
    "                    for fo in range(0,so[2]):\n",
    "                        src=[]\n",
    "                        for yi in range(0,pool_size[1]):\n",
    "                            for xi in range(0,pool_size[0]):\n",
    "                                src.append(curr[xo*pool_size[0]+xi,yo*pool_size[1]+yi,fo])\n",
    "                        working[xi,yi,fo]=('max',None,src)\n",
    "            curr=working\n",
    "            print(curr)\n",
    "            \n",
    "            \n",
    "render_as_graph(model.layers,(28,28))"
   ]
  },
  {
   "cell_type": "code",
   "execution_count": 156,
   "metadata": {},
   "outputs": [
    {
     "data": {
      "text/plain": [
       "<tensorflow.python.keras.layers.pooling.MaxPooling2D at 0x7f31a89df2d0>"
      ]
     },
     "execution_count": 156,
     "metadata": {},
     "output_type": "execute_result"
    }
   ],
   "source": [
    "model.layers[2]"
   ]
  },
  {
   "cell_type": "code",
   "execution_count": 144,
   "metadata": {},
   "outputs": [
    {
     "data": {
      "text/plain": [
       "(None, 12, 12, 12)"
      ]
     },
     "execution_count": 144,
     "metadata": {},
     "output_type": "execute_result"
    }
   ],
   "source": [
    "model.layers[2].output_shape"
   ]
  },
  {
   "cell_type": "code",
   "execution_count": 146,
   "metadata": {},
   "outputs": [
    {
     "data": {
      "text/plain": [
       "(None, 24, 24, 12)"
      ]
     },
     "execution_count": 146,
     "metadata": {},
     "output_type": "execute_result"
    }
   ],
   "source": [
    "model.layers[2].input_shape"
   ]
  },
  {
   "cell_type": "code",
   "execution_count": 166,
   "metadata": {},
   "outputs": [
    {
     "data": {
      "text/plain": [
       "'x'"
      ]
     },
     "execution_count": 166,
     "metadata": {},
     "output_type": "execute_result"
    }
   ],
   "source": [
    "np.array([[\"x\"]], dtype=object)[0,0]"
   ]
  },
  {
   "cell_type": "code",
   "execution_count": null,
   "metadata": {},
   "outputs": [],
   "source": []
  }
 ],
 "metadata": {
  "accelerator": "GPU",
  "colab": {
   "collapsed_sections": [],
   "name": "pruning_with_keras.ipynb",
   "toc_visible": true
  },
  "kernelspec": {
   "display_name": "Python TF-ML",
   "language": "python",
   "name": "tf-ml"
  },
  "language_info": {
   "codemirror_mode": {
    "name": "ipython",
    "version": 3
   },
   "file_extension": ".py",
   "mimetype": "text/x-python",
   "name": "python",
   "nbconvert_exporter": "python",
   "pygments_lexer": "ipython3",
   "version": "3.7.5"
  }
 },
 "nbformat": 4,
 "nbformat_minor": 1
}
